{
 "cells": [
  {
   "cell_type": "code",
   "execution_count": 1,
   "metadata": {},
   "outputs": [],
   "source": [
    "import pandas as pd\n",
    "import seaborn as sns\n",
    "sns.set(rc={'figure.figsize':(14,12)})\n",
    "import matplotlib.pyplot as plt"
   ]
  },
  {
   "cell_type": "code",
   "execution_count": 2,
   "metadata": {},
   "outputs": [
    {
     "data": {
      "text/html": [
       "<div>\n",
       "<style scoped>\n",
       "    .dataframe tbody tr th:only-of-type {\n",
       "        vertical-align: middle;\n",
       "    }\n",
       "\n",
       "    .dataframe tbody tr th {\n",
       "        vertical-align: top;\n",
       "    }\n",
       "\n",
       "    .dataframe thead th {\n",
       "        text-align: right;\n",
       "    }\n",
       "</style>\n",
       "<table border=\"1\" class=\"dataframe\">\n",
       "  <thead>\n",
       "    <tr style=\"text-align: right;\">\n",
       "      <th></th>\n",
       "      <th>team_id</th>\n",
       "      <th>player_id</th>\n",
       "      <th>team_year</th>\n",
       "    </tr>\n",
       "  </thead>\n",
       "  <tbody>\n",
       "    <tr>\n",
       "      <th>0</th>\n",
       "      <td>TeamA1</td>\n",
       "      <td>1059</td>\n",
       "      <td>1902</td>\n",
       "    </tr>\n",
       "    <tr>\n",
       "      <th>1</th>\n",
       "      <td>TeamA1</td>\n",
       "      <td>1171</td>\n",
       "      <td>1902</td>\n",
       "    </tr>\n",
       "    <tr>\n",
       "      <th>2</th>\n",
       "      <td>TeamA1</td>\n",
       "      <td>1177</td>\n",
       "      <td>1902</td>\n",
       "    </tr>\n",
       "    <tr>\n",
       "      <th>3</th>\n",
       "      <td>TeamA1</td>\n",
       "      <td>1181</td>\n",
       "      <td>1902</td>\n",
       "    </tr>\n",
       "    <tr>\n",
       "      <th>4</th>\n",
       "      <td>TeamA1</td>\n",
       "      <td>1195</td>\n",
       "      <td>1902</td>\n",
       "    </tr>\n",
       "    <tr>\n",
       "      <th>...</th>\n",
       "      <td>...</td>\n",
       "      <td>...</td>\n",
       "      <td>...</td>\n",
       "    </tr>\n",
       "    <tr>\n",
       "      <th>1034</th>\n",
       "      <td>TeamNL</td>\n",
       "      <td>7916</td>\n",
       "      <td>1903</td>\n",
       "    </tr>\n",
       "    <tr>\n",
       "      <th>1035</th>\n",
       "      <td>TeamNL</td>\n",
       "      <td>8859</td>\n",
       "      <td>1903</td>\n",
       "    </tr>\n",
       "    <tr>\n",
       "      <th>1036</th>\n",
       "      <td>TeamNL</td>\n",
       "      <td>9040</td>\n",
       "      <td>1903</td>\n",
       "    </tr>\n",
       "    <tr>\n",
       "      <th>1037</th>\n",
       "      <td>TeamNL</td>\n",
       "      <td>9785</td>\n",
       "      <td>1903</td>\n",
       "    </tr>\n",
       "    <tr>\n",
       "      <th>1038</th>\n",
       "      <td>TeamNL</td>\n",
       "      <td>9880</td>\n",
       "      <td>1903</td>\n",
       "    </tr>\n",
       "  </tbody>\n",
       "</table>\n",
       "<p>1039 rows × 3 columns</p>\n",
       "</div>"
      ],
      "text/plain": [
       "     team_id  player_id  team_year\n",
       "0     TeamA1       1059       1902\n",
       "1     TeamA1       1171       1902\n",
       "2     TeamA1       1177       1902\n",
       "3     TeamA1       1181       1902\n",
       "4     TeamA1       1195       1902\n",
       "...      ...        ...        ...\n",
       "1034  TeamNL       7916       1903\n",
       "1035  TeamNL       8859       1903\n",
       "1036  TeamNL       9040       1903\n",
       "1037  TeamNL       9785       1903\n",
       "1038  TeamNL       9880       1903\n",
       "\n",
       "[1039 rows x 3 columns]"
      ]
     },
     "execution_count": 2,
     "metadata": {},
     "output_type": "execute_result"
    }
   ],
   "source": [
    "team_info = pd.read_csv(\"D:\\\\new_downloads\\SMT-Data-Challenge\\SMT-Data-Challenge\\\\team_info.csv\")\n",
    "team_info"
   ]
  },
  {
   "cell_type": "code",
   "execution_count": 3,
   "metadata": {},
   "outputs": [
    {
     "data": {
      "text/plain": [
       "array(['TeamA1', 'TeamA2', 'TeamA3', 'TeamB', 'TeamKJ', 'TeamKK',\n",
       "       'TeamKL', 'TeamLG', 'TeamLH', 'TeamLI', 'TeamLJ', 'TeamLK',\n",
       "       'TeamLL', 'TeamMA', 'TeamMB', 'TeamMC', 'TeamMD', 'TeamME',\n",
       "       'TeamMF', 'TeamMG', 'TeamMH', 'TeamMI', 'TeamMJ', 'TeamMK',\n",
       "       'TeamML', 'TeamNA', 'TeamNB', 'TeamNC', 'TeamND', 'TeamNE',\n",
       "       'TeamNF', 'TeamNG', 'TeamNH', 'TeamNI', 'TeamNJ', 'TeamNK',\n",
       "       'TeamNL'], dtype=object)"
      ]
     },
     "execution_count": 3,
     "metadata": {},
     "output_type": "execute_result"
    }
   ],
   "source": [
    "team_info.team_id.unique()"
   ]
  }
 ],
 "metadata": {
  "kernelspec": {
   "display_name": "Python 3.8.10 64-bit",
   "language": "python",
   "name": "python3"
  },
  "language_info": {
   "codemirror_mode": {
    "name": "ipython",
    "version": 3
   },
   "file_extension": ".py",
   "mimetype": "text/x-python",
   "name": "python",
   "nbconvert_exporter": "python",
   "pygments_lexer": "ipython3",
   "version": "3.8.10"
  },
  "orig_nbformat": 4,
  "vscode": {
   "interpreter": {
    "hash": "f02465d876577f1ecc900119d5df891cd606461a92acfbebfec1f44ce6c6e1ac"
   }
  }
 },
 "nbformat": 4,
 "nbformat_minor": 2
}
